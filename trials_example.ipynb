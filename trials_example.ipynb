{
 "cells": [
  {
   "cell_type": "code",
   "execution_count": null,
   "id": "ce0a5df6",
   "metadata": {},
   "outputs": [],
   "source": [
    "from one.api import ONE\n",
    "pw = 'international'\n",
    "one = ONE(base_url='https://openalyx.internationalbrainlab.org', password=pw, silent=True)\n",
    "\n",
    "eid = '0802ced5-33a3-405e-8336-b65ebc5cb07c'\n",
    "\n",
    "trials = one.load_object(eid, 'trials')"
   ]
  }
 ],
 "metadata": {
  "kernelspec": {
   "display_name": "Python [conda env:iblenv] *",
   "language": "python",
   "name": "conda-env-iblenv-py"
  },
  "language_info": {
   "codemirror_mode": {
    "name": "ipython",
    "version": 3
   },
   "file_extension": ".py",
   "mimetype": "text/x-python",
   "name": "python",
   "nbconvert_exporter": "python",
   "pygments_lexer": "ipython3",
   "version": "3.9.7"
  }
 },
 "nbformat": 4,
 "nbformat_minor": 5
}
